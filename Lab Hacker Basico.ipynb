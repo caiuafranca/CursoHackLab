{
 "cells": [
  {
   "cell_type": "code",
   "execution_count": 10,
   "metadata": {
    "scrolled": true
   },
   "outputs": [],
   "source": [
    "import pandas as pd\n",
    "%matplotlib inline"
   ]
  },
  {
   "cell_type": "code",
   "execution_count": 28,
   "metadata": {},
   "outputs": [],
   "source": [
    "df = pd.read_csv('sih-janeiro-2017-cirurgias-eletiva-e-emergencia.csv', sep =';', encoding = 'cp1252',\n",
    "                usecols=[3,6,7,8,12,14])\n",
    "df.columns = ['Hospital', 'Municipio', 'Complexidade', 'Caracter Atendimento','Sub procedimento', 'Procedimento']"
   ]
  },
  {
   "cell_type": "code",
   "execution_count": 30,
   "metadata": {},
   "outputs": [
    {
     "data": {
      "text/html": [
       "<div>\n",
       "<style scoped>\n",
       "    .dataframe tbody tr th:only-of-type {\n",
       "        vertical-align: middle;\n",
       "    }\n",
       "\n",
       "    .dataframe tbody tr th {\n",
       "        vertical-align: top;\n",
       "    }\n",
       "\n",
       "    .dataframe thead th {\n",
       "        text-align: right;\n",
       "    }\n",
       "</style>\n",
       "<table border=\"1\" class=\"dataframe\">\n",
       "  <thead>\n",
       "    <tr style=\"text-align: right;\">\n",
       "      <th></th>\n",
       "      <th>Hospital</th>\n",
       "      <th>Municipio</th>\n",
       "      <th>Complexidade</th>\n",
       "      <th>Caracter Atendimento</th>\n",
       "      <th>Sub procedimento</th>\n",
       "      <th>Procedimento</th>\n",
       "    </tr>\n",
       "  </thead>\n",
       "  <tbody>\n",
       "    <tr>\n",
       "      <th>0</th>\n",
       "      <td>6876617 HOSPITAL DA CRIANCA DE BRASILIA JOSE A...</td>\n",
       "      <td>BRASILIA, DF, BR</td>\n",
       "      <td>Média complexidade</td>\n",
       "      <td>Eletivo</td>\n",
       "      <td>Sub Grupo: 15 - Outras cirurgias</td>\n",
       "      <td>TRATAMENTO C/ CIRURGIAS MULTIPLAS</td>\n",
       "    </tr>\n",
       "    <tr>\n",
       "      <th>1</th>\n",
       "      <td>0010456 HBDF HOSPITAL DE BASE DO DISTRITO FEDERAL</td>\n",
       "      <td>BRASILIA, DF, BR</td>\n",
       "      <td>Média complexidade</td>\n",
       "      <td>Urgência</td>\n",
       "      <td>Sub Grupo: 03 - Cirurgia do sistema nervoso ce...</td>\n",
       "      <td>DERIVACAO VENTRICULAR EXTERNAR-SUBGALEAL EXTERNA</td>\n",
       "    </tr>\n",
       "    <tr>\n",
       "      <th>2</th>\n",
       "      <td>0010456 HBDF HOSPITAL DE BASE DO DISTRITO FEDERAL</td>\n",
       "      <td>BRASILIA, DF, BR</td>\n",
       "      <td>Média complexidade</td>\n",
       "      <td>Urgência</td>\n",
       "      <td>Sub Grupo: 15 - Outras cirurgias</td>\n",
       "      <td>TRATAMENTO C/ CIRURGIAS MULTIPLAS</td>\n",
       "    </tr>\n",
       "  </tbody>\n",
       "</table>\n",
       "</div>"
      ],
      "text/plain": [
       "                                            Hospital          Municipio  \\\n",
       "0  6876617 HOSPITAL DA CRIANCA DE BRASILIA JOSE A...  BRASILIA, DF, BR    \n",
       "1  0010456 HBDF HOSPITAL DE BASE DO DISTRITO FEDERAL  BRASILIA, DF, BR    \n",
       "2  0010456 HBDF HOSPITAL DE BASE DO DISTRITO FEDERAL  BRASILIA, DF, BR    \n",
       "\n",
       "         Complexidade Caracter Atendimento  \\\n",
       "0  Média complexidade              Eletivo   \n",
       "1  Média complexidade             Urgência   \n",
       "2  Média complexidade             Urgência   \n",
       "\n",
       "                                    Sub procedimento  \\\n",
       "0                   Sub Grupo: 15 - Outras cirurgias   \n",
       "1  Sub Grupo: 03 - Cirurgia do sistema nervoso ce...   \n",
       "2                   Sub Grupo: 15 - Outras cirurgias   \n",
       "\n",
       "                                       Procedimento  \n",
       "0                 TRATAMENTO C/ CIRURGIAS MULTIPLAS  \n",
       "1  DERIVACAO VENTRICULAR EXTERNAR-SUBGALEAL EXTERNA  \n",
       "2                 TRATAMENTO C/ CIRURGIAS MULTIPLAS  "
      ]
     },
     "execution_count": 30,
     "metadata": {},
     "output_type": "execute_result"
    }
   ],
   "source": [
    "df.head(3)"
   ]
  },
  {
   "cell_type": "code",
   "execution_count": 32,
   "metadata": {},
   "outputs": [
    {
     "data": {
      "text/html": [
       "<div>\n",
       "<style scoped>\n",
       "    .dataframe tbody tr th:only-of-type {\n",
       "        vertical-align: middle;\n",
       "    }\n",
       "\n",
       "    .dataframe tbody tr th {\n",
       "        vertical-align: top;\n",
       "    }\n",
       "\n",
       "    .dataframe thead th {\n",
       "        text-align: right;\n",
       "    }\n",
       "</style>\n",
       "<table border=\"1\" class=\"dataframe\">\n",
       "  <thead>\n",
       "    <tr style=\"text-align: right;\">\n",
       "      <th></th>\n",
       "      <th>Hospital</th>\n",
       "      <th>Municipio</th>\n",
       "      <th>Complexidade</th>\n",
       "      <th>Caracter Atendimento</th>\n",
       "      <th>Sub procedimento</th>\n",
       "      <th>Procedimento</th>\n",
       "    </tr>\n",
       "  </thead>\n",
       "  <tbody>\n",
       "    <tr>\n",
       "      <th>count</th>\n",
       "      <td>4862</td>\n",
       "      <td>4862</td>\n",
       "      <td>4862</td>\n",
       "      <td>4862</td>\n",
       "      <td>4862</td>\n",
       "      <td>4862</td>\n",
       "    </tr>\n",
       "    <tr>\n",
       "      <th>unique</th>\n",
       "      <td>16</td>\n",
       "      <td>11</td>\n",
       "      <td>2</td>\n",
       "      <td>4</td>\n",
       "      <td>16</td>\n",
       "      <td>495</td>\n",
       "    </tr>\n",
       "    <tr>\n",
       "      <th>top</th>\n",
       "      <td>0010456 HBDF HOSPITAL DE BASE DO DISTRITO FEDERAL</td>\n",
       "      <td>BRASILIA, DF, BR</td>\n",
       "      <td>Média complexidade</td>\n",
       "      <td>Urgência</td>\n",
       "      <td>Sub Grupo: 11 - Cirurgia obstétrica</td>\n",
       "      <td>PARTO CESARIANO</td>\n",
       "    </tr>\n",
       "    <tr>\n",
       "      <th>freq</th>\n",
       "      <td>735</td>\n",
       "      <td>1923</td>\n",
       "      <td>4353</td>\n",
       "      <td>3794</td>\n",
       "      <td>1539</td>\n",
       "      <td>1060</td>\n",
       "    </tr>\n",
       "  </tbody>\n",
       "</table>\n",
       "</div>"
      ],
      "text/plain": [
       "                                                 Hospital          Municipio  \\\n",
       "count                                                4862               4862   \n",
       "unique                                                 16                 11   \n",
       "top     0010456 HBDF HOSPITAL DE BASE DO DISTRITO FEDERAL  BRASILIA, DF, BR    \n",
       "freq                                                  735               1923   \n",
       "\n",
       "              Complexidade Caracter Atendimento  \\\n",
       "count                 4862                 4862   \n",
       "unique                   2                    4   \n",
       "top     Média complexidade             Urgência   \n",
       "freq                  4353                 3794   \n",
       "\n",
       "                           Sub procedimento     Procedimento  \n",
       "count                                  4862             4862  \n",
       "unique                                   16              495  \n",
       "top     Sub Grupo: 11 - Cirurgia obstétrica  PARTO CESARIANO  \n",
       "freq                                   1539             1060  "
      ]
     },
     "execution_count": 32,
     "metadata": {},
     "output_type": "execute_result"
    }
   ],
   "source": [
    "# Descrover as Culunas numericas\n",
    "df.describe()"
   ]
  },
  {
   "cell_type": "code",
   "execution_count": 33,
   "metadata": {},
   "outputs": [
    {
     "data": {
      "text/plain": [
       "array(['6876617 HOSPITAL DA CRIANCA DE BRASILIA JOSE ALENCAR HCB',\n",
       "       '0010456 HBDF HOSPITAL DE BASE DO DISTRITO FEDERAL',\n",
       "       '0010499 HRT HOSPITAL REGIONAL DE TAGUATINGA', '0010545 HRBZ',\n",
       "       '0010480 HOSPITAL REGIONAL DE CEILANDIA',\n",
       "       '3276678 INSTITUTO DE CARDIOLOGIA DO DISTRITO FEDERAL',\n",
       "       '0010472 HRG', '0010510 HOSPITAL UNIVERSITARIO DE BRASILIA',\n",
       "       '0010529 HRPL',\n",
       "       '0010537 HOSPITAL MATERNO INFANTIL DE BRASILIA HMIB',\n",
       "       '3055450 CBV CENTRO BRASILEIRO DA VISAO',\n",
       "       '2672197 HRSAM HOSPITAL REGIONAL DE SAMAMBAIA', '0010502 HRS',\n",
       "       '5717515 HRSM', '2645157 HRPA', '0010464 HRAN'], dtype=object)"
      ]
     },
     "execution_count": 33,
     "metadata": {},
     "output_type": "execute_result"
    }
   ],
   "source": [
    "#Listar Hospitais comando 'UNIQUE'\n",
    "df['Hospital'].unique()\n"
   ]
  },
  {
   "cell_type": "code",
   "execution_count": 35,
   "metadata": {},
   "outputs": [
    {
     "data": {
      "text/plain": [
       "0010456 HBDF HOSPITAL DE BASE DO DISTRITO FEDERAL           735\n",
       "0010472 HRG                                                 555\n",
       "0010480 HOSPITAL REGIONAL DE CEILANDIA                      461\n",
       "0010464 HRAN                                                432\n",
       "0010499 HRT HOSPITAL REGIONAL DE TAGUATINGA                 373\n",
       "0010510 HOSPITAL UNIVERSITARIO DE BRASILIA                  350\n",
       "2645157 HRPA                                                327\n",
       "0010537 HOSPITAL MATERNO INFANTIL DE BRASILIA HMIB          298\n",
       "5717515 HRSM                                                281\n",
       "0010529 HRPL                                                256\n",
       "0010502 HRS                                                 225\n",
       "2672197 HRSAM HOSPITAL REGIONAL DE SAMAMBAIA                195\n",
       "3276678 INSTITUTO DE CARDIOLOGIA DO DISTRITO FEDERAL        191\n",
       "0010545 HRBZ                                                 75\n",
       "6876617 HOSPITAL DA CRIANCA DE BRASILIA JOSE ALENCAR HCB     74\n",
       "3055450 CBV CENTRO BRASILEIRO DA VISAO                       34\n",
       "Name: Hospital, dtype: int64"
      ]
     },
     "execution_count": 35,
     "metadata": {},
     "output_type": "execute_result"
    }
   ],
   "source": [
    "#Quantas Cirurgias Foram realizadas em cada hospital\n",
    "df['Hospital'].value_counts()"
   ]
  },
  {
   "cell_type": "code",
   "execution_count": 36,
   "metadata": {
    "scrolled": true
   },
   "outputs": [
    {
     "data": {
      "text/plain": [
       "Sub Grupo: 11 - Cirurgia obstétrica                                                   1539\n",
       "Sub Grupo: 07 - Cirurgia do aparelho digestivo, orgãos anexos e parede abdominal       893\n",
       "Sub Grupo: 08 - Cirurgia do sistema osteomuscular                                      651\n",
       "Sub Grupo: 09 - Cirurgia do aparelho geniturinário                                     474\n",
       "Sub Grupo: 06 - Cirurgia do aparelho circulatório                                      299\n",
       "Sub Grupo: 15 - Outras cirurgias                                                       223\n",
       "Sub Grupo: 04 - Cirurgia das vias aéreas superiores, da cabeça e do pescoço            145\n",
       "Sub Grupo: 03 - Cirurgia do sistema nervoso central e periférico                       141\n",
       "Sub Grupo: 16 - Cirurgia em oncologia                                                  110\n",
       "Sub Grupo: 05 - Cirurgia do aparelho da visão                                           98\n",
       "Sub Grupo: 12 - Cirurgia torácica                                                       92\n",
       "Sub Grupo: 01 - Pequenas cirurgias e cirurgias de pele, tecido subcutâneo e mucosa      77\n",
       "Sub Grupo: 10 - Cirurgia de mama                                                        68\n",
       "Sub Grupo: 13 - Cirurgia reparadora                                                     40\n",
       "Sub Grupo: 14 - Cirurgia oro-facial                                                      7\n",
       "Sub Grupo: 02 - Cirurgia de glândulas endócrinas                                         5\n",
       "Name: Sub procedimento, dtype: int64"
      ]
     },
     "execution_count": 36,
     "metadata": {},
     "output_type": "execute_result"
    }
   ],
   "source": [
    "#Quantas Cirurgias pro Sub Grupo\n",
    "df['Sub procedimento'].value_counts()"
   ]
  },
  {
   "cell_type": "code",
   "execution_count": 47,
   "metadata": {},
   "outputs": [
    {
     "data": {
      "text/plain": [
       "<matplotlib.axes._subplots.AxesSubplot at 0xec0e0b4dd8>"
      ]
     },
     "execution_count": 47,
     "metadata": {},
     "output_type": "execute_result"
    },
    {
     "data": {
      "image/png": "[encoded data removed]",
      "text/plain": [
       "<Figure size 432x288 with 1 Axes>"
      ]
     },
     "metadata": {
      "needs_background": "light"
     },
     "output_type": "display_data"
    }
   ],
   "source": [
    "df['Hospital'].value_counts().plot.bar()"
   ]
  },
  {
   "cell_type": "code",
   "execution_count": 50,
   "metadata": {},
   "outputs": [
    {
     "data": {
      "text/html": [
       "<div>\n",
       "<style scoped>\n",
       "    .dataframe tbody tr th:only-of-type {\n",
       "        vertical-align: middle;\n",
       "    }\n",
       "\n",
       "    .dataframe tbody tr th {\n",
       "        vertical-align: top;\n",
       "    }\n",
       "\n",
       "    .dataframe thead th {\n",
       "        text-align: right;\n",
       "    }\n",
       "</style>\n",
       "<table border=\"1\" class=\"dataframe\">\n",
       "  <thead>\n",
       "    <tr style=\"text-align: right;\">\n",
       "      <th></th>\n",
       "      <th>Hospital</th>\n",
       "      <th>Municipio</th>\n",
       "      <th>Complexidade</th>\n",
       "      <th>Caracter Atendimento</th>\n",
       "      <th>Sub procedimento</th>\n",
       "      <th>Procedimento</th>\n",
       "    </tr>\n",
       "  </thead>\n",
       "  <tbody>\n",
       "    <tr>\n",
       "      <th>2369</th>\n",
       "      <td>0010456 HBDF HOSPITAL DE BASE DO DISTRITO FEDERAL</td>\n",
       "      <td>BRASILIA, DF, BR</td>\n",
       "      <td>Média complexidade</td>\n",
       "      <td>Urgência</td>\n",
       "      <td>Sub Grupo: 07 - Cirurgia do aparelho digestivo...</td>\n",
       "      <td>COLECISTECTOMIA</td>\n",
       "    </tr>\n",
       "    <tr>\n",
       "      <th>2370</th>\n",
       "      <td>0010456 HBDF HOSPITAL DE BASE DO DISTRITO FEDERAL</td>\n",
       "      <td>BRASILIA, DF, BR</td>\n",
       "      <td>Média complexidade</td>\n",
       "      <td>Eletivo</td>\n",
       "      <td>Sub Grupo: 03 - Cirurgia do sistema nervoso ce...</td>\n",
       "      <td>DERIVACAO VENTRICULAR PARA PERITONEO / ATRIO /...</td>\n",
       "    </tr>\n",
       "    <tr>\n",
       "      <th>2371</th>\n",
       "      <td>0010456 HBDF HOSPITAL DE BASE DO DISTRITO FEDERAL</td>\n",
       "      <td>BRASILIA, DF, BR</td>\n",
       "      <td>Alta complexidade</td>\n",
       "      <td>Eletivo</td>\n",
       "      <td>Sub Grupo: 16 - Cirurgia em oncologia</td>\n",
       "      <td>MASTECTOMIA RADICAL C/ LINFADENECTOMIA AXILAR ...</td>\n",
       "    </tr>\n",
       "    <tr>\n",
       "      <th>2372</th>\n",
       "      <td>0010456 HBDF HOSPITAL DE BASE DO DISTRITO FEDERAL</td>\n",
       "      <td>BRASILIA, DF, BR</td>\n",
       "      <td>Alta complexidade</td>\n",
       "      <td>Eletivo</td>\n",
       "      <td>Sub Grupo: 16 - Cirurgia em oncologia</td>\n",
       "      <td>SEGMENTECTOMIA/QUADRANTECTOMIA/SETORECTOMIA DE...</td>\n",
       "    </tr>\n",
       "    <tr>\n",
       "      <th>2373</th>\n",
       "      <td>0010456 HBDF HOSPITAL DE BASE DO DISTRITO FEDERAL</td>\n",
       "      <td>BRASILIA, DF, BR</td>\n",
       "      <td>Alta complexidade</td>\n",
       "      <td>Eletivo</td>\n",
       "      <td>Sub Grupo: 06 - Cirurgia do aparelho circulatório</td>\n",
       "      <td>ESTUDO ELETROFISIOLOGICO TERAPEUTICO II (ABLAC...</td>\n",
       "    </tr>\n",
       "  </tbody>\n",
       "</table>\n",
       "</div>"
      ],
      "text/plain": [
       "                                               Hospital          Municipio  \\\n",
       "2369  0010456 HBDF HOSPITAL DE BASE DO DISTRITO FEDERAL  BRASILIA, DF, BR    \n",
       "2370  0010456 HBDF HOSPITAL DE BASE DO DISTRITO FEDERAL  BRASILIA, DF, BR    \n",
       "2371  0010456 HBDF HOSPITAL DE BASE DO DISTRITO FEDERAL  BRASILIA, DF, BR    \n",
       "2372  0010456 HBDF HOSPITAL DE BASE DO DISTRITO FEDERAL  BRASILIA, DF, BR    \n",
       "2373  0010456 HBDF HOSPITAL DE BASE DO DISTRITO FEDERAL  BRASILIA, DF, BR    \n",
       "\n",
       "            Complexidade Caracter Atendimento  \\\n",
       "2369  Média complexidade             Urgência   \n",
       "2370  Média complexidade              Eletivo   \n",
       "2371   Alta complexidade              Eletivo   \n",
       "2372   Alta complexidade              Eletivo   \n",
       "2373   Alta complexidade              Eletivo   \n",
       "\n",
       "                                       Sub procedimento  \\\n",
       "2369  Sub Grupo: 07 - Cirurgia do aparelho digestivo...   \n",
       "2370  Sub Grupo: 03 - Cirurgia do sistema nervoso ce...   \n",
       "2371              Sub Grupo: 16 - Cirurgia em oncologia   \n",
       "2372              Sub Grupo: 16 - Cirurgia em oncologia   \n",
       "2373  Sub Grupo: 06 - Cirurgia do aparelho circulatório   \n",
       "\n",
       "                                           Procedimento  \n",
       "2369                                    COLECISTECTOMIA  \n",
       "2370  DERIVACAO VENTRICULAR PARA PERITONEO / ATRIO /...  \n",
       "2371  MASTECTOMIA RADICAL C/ LINFADENECTOMIA AXILAR ...  \n",
       "2372  SEGMENTECTOMIA/QUADRANTECTOMIA/SETORECTOMIA DE...  \n",
       "2373  ESTUDO ELETROFISIOLOGICO TERAPEUTICO II (ABLAC...  "
      ]
     },
     "execution_count": 50,
     "metadata": {},
     "output_type": "execute_result"
    }
   ],
   "source": [
    "#Criar um subconjunto selecionando por filtro df[df['filtro']]\n",
    "df_hospbase = df[df['Hospital'] == '0010456 HBDF HOSPITAL DE BASE DO DISTRITO FEDERAL']\n",
    "\n",
    "df_hospbase.tail()"
   ]
  }
 ],
 "metadata": {
  "kernelspec": {
   "display_name": "Python 3",
   "language": "python",
   "name": "python3"
  },
  "language_info": {
   "codemirror_mode": {
    "name": "ipython",
    "version": 3
   },
   "file_extension": ".py",
   "mimetype": "text/x-python",
   "name": "python",
   "nbconvert_exporter": "python",
   "pygments_lexer": "ipython3",
   "version": "3.7.0"
  }
 },
 "nbformat": 4,
 "nbformat_minor": 2
}
